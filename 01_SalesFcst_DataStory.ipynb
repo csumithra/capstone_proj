{
 "cells": [
  {
   "cell_type": "code",
   "execution_count": 1,
   "metadata": {
    "collapsed": true
   },
   "outputs": [],
   "source": [
    "import numpy as np\n",
    "import pandas as pd\n",
    "import matplotlib.pyplot as plt\n",
    "import seaborn as sns\n",
    "%matplotlib inline"
   ]
  },
  {
   "cell_type": "markdown",
   "metadata": {
    "collapsed": true
   },
   "source": [
    "### Load train and test files as dataframes"
   ]
  },
  {
   "cell_type": "code",
   "execution_count": 2,
   "metadata": {
    "collapsed": true
   },
   "outputs": [],
   "source": [
    "train_df = pd.read_csv('train.csv', header=0, parse_dates=[2],index_col=2)"
   ]
  },
  {
   "cell_type": "code",
   "execution_count": 3,
   "metadata": {},
   "outputs": [
    {
     "name": "stdout",
     "output_type": "stream",
     "text": [
      "<class 'pandas.core.frame.DataFrame'>\n",
      "DatetimeIndex: 421570 entries, 2010-02-05 to 2012-10-26\n",
      "Data columns (total 4 columns):\n",
      "Store           421570 non-null int64\n",
      "Dept            421570 non-null int64\n",
      "Weekly_Sales    421570 non-null float64\n",
      "IsHoliday       421570 non-null bool\n",
      "dtypes: bool(1), float64(1), int64(2)\n",
      "memory usage: 13.3 MB\n"
     ]
    }
   ],
   "source": [
    "train_df.info()"
   ]
  },
  {
   "cell_type": "code",
   "execution_count": 4,
   "metadata": {},
   "outputs": [
    {
     "data": {
      "text/html": [
       "<div>\n",
       "<style>\n",
       "    .dataframe thead tr:only-child th {\n",
       "        text-align: right;\n",
       "    }\n",
       "\n",
       "    .dataframe thead th {\n",
       "        text-align: left;\n",
       "    }\n",
       "\n",
       "    .dataframe tbody tr th {\n",
       "        vertical-align: top;\n",
       "    }\n",
       "</style>\n",
       "<table border=\"1\" class=\"dataframe\">\n",
       "  <thead>\n",
       "    <tr style=\"text-align: right;\">\n",
       "      <th></th>\n",
       "      <th>Store</th>\n",
       "      <th>Dept</th>\n",
       "      <th>Weekly_Sales</th>\n",
       "      <th>IsHoliday</th>\n",
       "    </tr>\n",
       "    <tr>\n",
       "      <th>Date</th>\n",
       "      <th></th>\n",
       "      <th></th>\n",
       "      <th></th>\n",
       "      <th></th>\n",
       "    </tr>\n",
       "  </thead>\n",
       "  <tbody>\n",
       "    <tr>\n",
       "      <th>2010-02-05</th>\n",
       "      <td>1</td>\n",
       "      <td>1</td>\n",
       "      <td>24924.50</td>\n",
       "      <td>False</td>\n",
       "    </tr>\n",
       "    <tr>\n",
       "      <th>2010-02-12</th>\n",
       "      <td>1</td>\n",
       "      <td>1</td>\n",
       "      <td>46039.49</td>\n",
       "      <td>True</td>\n",
       "    </tr>\n",
       "    <tr>\n",
       "      <th>2010-02-19</th>\n",
       "      <td>1</td>\n",
       "      <td>1</td>\n",
       "      <td>41595.55</td>\n",
       "      <td>False</td>\n",
       "    </tr>\n",
       "    <tr>\n",
       "      <th>2010-02-26</th>\n",
       "      <td>1</td>\n",
       "      <td>1</td>\n",
       "      <td>19403.54</td>\n",
       "      <td>False</td>\n",
       "    </tr>\n",
       "    <tr>\n",
       "      <th>2010-03-05</th>\n",
       "      <td>1</td>\n",
       "      <td>1</td>\n",
       "      <td>21827.90</td>\n",
       "      <td>False</td>\n",
       "    </tr>\n",
       "  </tbody>\n",
       "</table>\n",
       "</div>"
      ],
      "text/plain": [
       "            Store  Dept  Weekly_Sales  IsHoliday\n",
       "Date                                            \n",
       "2010-02-05      1     1      24924.50      False\n",
       "2010-02-12      1     1      46039.49       True\n",
       "2010-02-19      1     1      41595.55      False\n",
       "2010-02-26      1     1      19403.54      False\n",
       "2010-03-05      1     1      21827.90      False"
      ]
     },
     "execution_count": 4,
     "metadata": {},
     "output_type": "execute_result"
    }
   ],
   "source": [
    "train_df.head()"
   ]
  },
  {
   "cell_type": "code",
   "execution_count": 5,
   "metadata": {},
   "outputs": [
    {
     "data": {
      "text/html": [
       "<div>\n",
       "<style>\n",
       "    .dataframe thead tr:only-child th {\n",
       "        text-align: right;\n",
       "    }\n",
       "\n",
       "    .dataframe thead th {\n",
       "        text-align: left;\n",
       "    }\n",
       "\n",
       "    .dataframe tbody tr th {\n",
       "        vertical-align: top;\n",
       "    }\n",
       "</style>\n",
       "<table border=\"1\" class=\"dataframe\">\n",
       "  <thead>\n",
       "    <tr style=\"text-align: right;\">\n",
       "      <th></th>\n",
       "      <th>Store</th>\n",
       "      <th>Dept</th>\n",
       "      <th>Weekly_Sales</th>\n",
       "      <th>IsHoliday</th>\n",
       "    </tr>\n",
       "    <tr>\n",
       "      <th>Date</th>\n",
       "      <th></th>\n",
       "      <th></th>\n",
       "      <th></th>\n",
       "      <th></th>\n",
       "    </tr>\n",
       "  </thead>\n",
       "  <tbody>\n",
       "    <tr>\n",
       "      <th>2012-09-28</th>\n",
       "      <td>45</td>\n",
       "      <td>98</td>\n",
       "      <td>508.37</td>\n",
       "      <td>False</td>\n",
       "    </tr>\n",
       "    <tr>\n",
       "      <th>2012-10-05</th>\n",
       "      <td>45</td>\n",
       "      <td>98</td>\n",
       "      <td>628.10</td>\n",
       "      <td>False</td>\n",
       "    </tr>\n",
       "    <tr>\n",
       "      <th>2012-10-12</th>\n",
       "      <td>45</td>\n",
       "      <td>98</td>\n",
       "      <td>1061.02</td>\n",
       "      <td>False</td>\n",
       "    </tr>\n",
       "    <tr>\n",
       "      <th>2012-10-19</th>\n",
       "      <td>45</td>\n",
       "      <td>98</td>\n",
       "      <td>760.01</td>\n",
       "      <td>False</td>\n",
       "    </tr>\n",
       "    <tr>\n",
       "      <th>2012-10-26</th>\n",
       "      <td>45</td>\n",
       "      <td>98</td>\n",
       "      <td>1076.80</td>\n",
       "      <td>False</td>\n",
       "    </tr>\n",
       "  </tbody>\n",
       "</table>\n",
       "</div>"
      ],
      "text/plain": [
       "            Store  Dept  Weekly_Sales  IsHoliday\n",
       "Date                                            \n",
       "2012-09-28     45    98        508.37      False\n",
       "2012-10-05     45    98        628.10      False\n",
       "2012-10-12     45    98       1061.02      False\n",
       "2012-10-19     45    98        760.01      False\n",
       "2012-10-26     45    98       1076.80      False"
      ]
     },
     "execution_count": 5,
     "metadata": {},
     "output_type": "execute_result"
    }
   ],
   "source": [
    "train_df.tail()"
   ]
  },
  {
   "cell_type": "code",
   "execution_count": 6,
   "metadata": {
    "collapsed": true
   },
   "outputs": [],
   "source": [
    "test_df = pd.read_csv('test.csv', header=0, parse_dates=[2],index_col=2)"
   ]
  },
  {
   "cell_type": "code",
   "execution_count": 7,
   "metadata": {},
   "outputs": [
    {
     "name": "stdout",
     "output_type": "stream",
     "text": [
      "<class 'pandas.core.frame.DataFrame'>\n",
      "DatetimeIndex: 115064 entries, 2012-11-02 to 2013-07-26\n",
      "Data columns (total 3 columns):\n",
      "Store        115064 non-null int64\n",
      "Dept         115064 non-null int64\n",
      "IsHoliday    115064 non-null bool\n",
      "dtypes: bool(1), int64(2)\n",
      "memory usage: 2.7 MB\n"
     ]
    }
   ],
   "source": [
    "test_df.info()"
   ]
  },
  {
   "cell_type": "code",
   "execution_count": 8,
   "metadata": {},
   "outputs": [
    {
     "data": {
      "text/html": [
       "<div>\n",
       "<style>\n",
       "    .dataframe thead tr:only-child th {\n",
       "        text-align: right;\n",
       "    }\n",
       "\n",
       "    .dataframe thead th {\n",
       "        text-align: left;\n",
       "    }\n",
       "\n",
       "    .dataframe tbody tr th {\n",
       "        vertical-align: top;\n",
       "    }\n",
       "</style>\n",
       "<table border=\"1\" class=\"dataframe\">\n",
       "  <thead>\n",
       "    <tr style=\"text-align: right;\">\n",
       "      <th></th>\n",
       "      <th>Store</th>\n",
       "      <th>Dept</th>\n",
       "      <th>IsHoliday</th>\n",
       "    </tr>\n",
       "    <tr>\n",
       "      <th>Date</th>\n",
       "      <th></th>\n",
       "      <th></th>\n",
       "      <th></th>\n",
       "    </tr>\n",
       "  </thead>\n",
       "  <tbody>\n",
       "    <tr>\n",
       "      <th>2012-11-02</th>\n",
       "      <td>1</td>\n",
       "      <td>1</td>\n",
       "      <td>False</td>\n",
       "    </tr>\n",
       "    <tr>\n",
       "      <th>2012-11-09</th>\n",
       "      <td>1</td>\n",
       "      <td>1</td>\n",
       "      <td>False</td>\n",
       "    </tr>\n",
       "    <tr>\n",
       "      <th>2012-11-16</th>\n",
       "      <td>1</td>\n",
       "      <td>1</td>\n",
       "      <td>False</td>\n",
       "    </tr>\n",
       "    <tr>\n",
       "      <th>2012-11-23</th>\n",
       "      <td>1</td>\n",
       "      <td>1</td>\n",
       "      <td>True</td>\n",
       "    </tr>\n",
       "    <tr>\n",
       "      <th>2012-11-30</th>\n",
       "      <td>1</td>\n",
       "      <td>1</td>\n",
       "      <td>False</td>\n",
       "    </tr>\n",
       "  </tbody>\n",
       "</table>\n",
       "</div>"
      ],
      "text/plain": [
       "            Store  Dept  IsHoliday\n",
       "Date                              \n",
       "2012-11-02      1     1      False\n",
       "2012-11-09      1     1      False\n",
       "2012-11-16      1     1      False\n",
       "2012-11-23      1     1       True\n",
       "2012-11-30      1     1      False"
      ]
     },
     "execution_count": 8,
     "metadata": {},
     "output_type": "execute_result"
    }
   ],
   "source": [
    "test_df.head()"
   ]
  },
  {
   "cell_type": "markdown",
   "metadata": {
    "collapsed": true
   },
   "source": [
    "### Load the features and Stores files as dataframes"
   ]
  },
  {
   "cell_type": "code",
   "execution_count": 9,
   "metadata": {
    "collapsed": true
   },
   "outputs": [],
   "source": [
    "features_df = pd.read_csv('features.csv', header=0, parse_dates=[1],index_col=1)"
   ]
  },
  {
   "cell_type": "code",
   "execution_count": 10,
   "metadata": {},
   "outputs": [
    {
     "data": {
      "text/html": [
       "<div>\n",
       "<style>\n",
       "    .dataframe thead tr:only-child th {\n",
       "        text-align: right;\n",
       "    }\n",
       "\n",
       "    .dataframe thead th {\n",
       "        text-align: left;\n",
       "    }\n",
       "\n",
       "    .dataframe tbody tr th {\n",
       "        vertical-align: top;\n",
       "    }\n",
       "</style>\n",
       "<table border=\"1\" class=\"dataframe\">\n",
       "  <thead>\n",
       "    <tr style=\"text-align: right;\">\n",
       "      <th></th>\n",
       "      <th>Store</th>\n",
       "      <th>Temperature</th>\n",
       "      <th>Fuel_Price</th>\n",
       "      <th>MarkDown1</th>\n",
       "      <th>MarkDown2</th>\n",
       "      <th>MarkDown3</th>\n",
       "      <th>MarkDown4</th>\n",
       "      <th>MarkDown5</th>\n",
       "      <th>CPI</th>\n",
       "      <th>Unemployment</th>\n",
       "      <th>IsHoliday</th>\n",
       "    </tr>\n",
       "    <tr>\n",
       "      <th>Date</th>\n",
       "      <th></th>\n",
       "      <th></th>\n",
       "      <th></th>\n",
       "      <th></th>\n",
       "      <th></th>\n",
       "      <th></th>\n",
       "      <th></th>\n",
       "      <th></th>\n",
       "      <th></th>\n",
       "      <th></th>\n",
       "      <th></th>\n",
       "    </tr>\n",
       "  </thead>\n",
       "  <tbody>\n",
       "    <tr>\n",
       "      <th>2010-02-05</th>\n",
       "      <td>1</td>\n",
       "      <td>42.31</td>\n",
       "      <td>2.572</td>\n",
       "      <td>NaN</td>\n",
       "      <td>NaN</td>\n",
       "      <td>NaN</td>\n",
       "      <td>NaN</td>\n",
       "      <td>NaN</td>\n",
       "      <td>211.096358</td>\n",
       "      <td>8.106</td>\n",
       "      <td>False</td>\n",
       "    </tr>\n",
       "    <tr>\n",
       "      <th>2010-02-12</th>\n",
       "      <td>1</td>\n",
       "      <td>38.51</td>\n",
       "      <td>2.548</td>\n",
       "      <td>NaN</td>\n",
       "      <td>NaN</td>\n",
       "      <td>NaN</td>\n",
       "      <td>NaN</td>\n",
       "      <td>NaN</td>\n",
       "      <td>211.242170</td>\n",
       "      <td>8.106</td>\n",
       "      <td>True</td>\n",
       "    </tr>\n",
       "    <tr>\n",
       "      <th>2010-02-19</th>\n",
       "      <td>1</td>\n",
       "      <td>39.93</td>\n",
       "      <td>2.514</td>\n",
       "      <td>NaN</td>\n",
       "      <td>NaN</td>\n",
       "      <td>NaN</td>\n",
       "      <td>NaN</td>\n",
       "      <td>NaN</td>\n",
       "      <td>211.289143</td>\n",
       "      <td>8.106</td>\n",
       "      <td>False</td>\n",
       "    </tr>\n",
       "    <tr>\n",
       "      <th>2010-02-26</th>\n",
       "      <td>1</td>\n",
       "      <td>46.63</td>\n",
       "      <td>2.561</td>\n",
       "      <td>NaN</td>\n",
       "      <td>NaN</td>\n",
       "      <td>NaN</td>\n",
       "      <td>NaN</td>\n",
       "      <td>NaN</td>\n",
       "      <td>211.319643</td>\n",
       "      <td>8.106</td>\n",
       "      <td>False</td>\n",
       "    </tr>\n",
       "    <tr>\n",
       "      <th>2010-03-05</th>\n",
       "      <td>1</td>\n",
       "      <td>46.50</td>\n",
       "      <td>2.625</td>\n",
       "      <td>NaN</td>\n",
       "      <td>NaN</td>\n",
       "      <td>NaN</td>\n",
       "      <td>NaN</td>\n",
       "      <td>NaN</td>\n",
       "      <td>211.350143</td>\n",
       "      <td>8.106</td>\n",
       "      <td>False</td>\n",
       "    </tr>\n",
       "  </tbody>\n",
       "</table>\n",
       "</div>"
      ],
      "text/plain": [
       "            Store  Temperature  Fuel_Price  MarkDown1  MarkDown2  MarkDown3  \\\n",
       "Date                                                                          \n",
       "2010-02-05      1        42.31       2.572        NaN        NaN        NaN   \n",
       "2010-02-12      1        38.51       2.548        NaN        NaN        NaN   \n",
       "2010-02-19      1        39.93       2.514        NaN        NaN        NaN   \n",
       "2010-02-26      1        46.63       2.561        NaN        NaN        NaN   \n",
       "2010-03-05      1        46.50       2.625        NaN        NaN        NaN   \n",
       "\n",
       "            MarkDown4  MarkDown5         CPI  Unemployment  IsHoliday  \n",
       "Date                                                                   \n",
       "2010-02-05        NaN        NaN  211.096358         8.106      False  \n",
       "2010-02-12        NaN        NaN  211.242170         8.106       True  \n",
       "2010-02-19        NaN        NaN  211.289143         8.106      False  \n",
       "2010-02-26        NaN        NaN  211.319643         8.106      False  \n",
       "2010-03-05        NaN        NaN  211.350143         8.106      False  "
      ]
     },
     "execution_count": 10,
     "metadata": {},
     "output_type": "execute_result"
    }
   ],
   "source": [
    "features_df.head()"
   ]
  },
  {
   "cell_type": "code",
   "execution_count": 11,
   "metadata": {},
   "outputs": [
    {
     "name": "stdout",
     "output_type": "stream",
     "text": [
      "<class 'pandas.core.frame.DataFrame'>\n",
      "DatetimeIndex: 8190 entries, 2010-02-05 to 2013-07-26\n",
      "Data columns (total 11 columns):\n",
      "Store           8190 non-null int64\n",
      "Temperature     8190 non-null float64\n",
      "Fuel_Price      8190 non-null float64\n",
      "MarkDown1       4032 non-null float64\n",
      "MarkDown2       2921 non-null float64\n",
      "MarkDown3       3613 non-null float64\n",
      "MarkDown4       3464 non-null float64\n",
      "MarkDown5       4050 non-null float64\n",
      "CPI             7605 non-null float64\n",
      "Unemployment    7605 non-null float64\n",
      "IsHoliday       8190 non-null bool\n",
      "dtypes: bool(1), float64(9), int64(1)\n",
      "memory usage: 711.8 KB\n"
     ]
    }
   ],
   "source": [
    "features_df.info()"
   ]
  },
  {
   "cell_type": "code",
   "execution_count": 12,
   "metadata": {
    "collapsed": true
   },
   "outputs": [],
   "source": [
    "stores_df = pd.read_csv('stores.csv')"
   ]
  },
  {
   "cell_type": "code",
   "execution_count": 13,
   "metadata": {},
   "outputs": [
    {
     "data": {
      "text/html": [
       "<div>\n",
       "<style>\n",
       "    .dataframe thead tr:only-child th {\n",
       "        text-align: right;\n",
       "    }\n",
       "\n",
       "    .dataframe thead th {\n",
       "        text-align: left;\n",
       "    }\n",
       "\n",
       "    .dataframe tbody tr th {\n",
       "        vertical-align: top;\n",
       "    }\n",
       "</style>\n",
       "<table border=\"1\" class=\"dataframe\">\n",
       "  <thead>\n",
       "    <tr style=\"text-align: right;\">\n",
       "      <th></th>\n",
       "      <th>Store</th>\n",
       "      <th>Type</th>\n",
       "      <th>Size</th>\n",
       "    </tr>\n",
       "  </thead>\n",
       "  <tbody>\n",
       "    <tr>\n",
       "      <th>0</th>\n",
       "      <td>1</td>\n",
       "      <td>A</td>\n",
       "      <td>151315</td>\n",
       "    </tr>\n",
       "    <tr>\n",
       "      <th>1</th>\n",
       "      <td>2</td>\n",
       "      <td>A</td>\n",
       "      <td>202307</td>\n",
       "    </tr>\n",
       "    <tr>\n",
       "      <th>2</th>\n",
       "      <td>3</td>\n",
       "      <td>B</td>\n",
       "      <td>37392</td>\n",
       "    </tr>\n",
       "    <tr>\n",
       "      <th>3</th>\n",
       "      <td>4</td>\n",
       "      <td>A</td>\n",
       "      <td>205863</td>\n",
       "    </tr>\n",
       "    <tr>\n",
       "      <th>4</th>\n",
       "      <td>5</td>\n",
       "      <td>B</td>\n",
       "      <td>34875</td>\n",
       "    </tr>\n",
       "  </tbody>\n",
       "</table>\n",
       "</div>"
      ],
      "text/plain": [
       "   Store Type    Size\n",
       "0      1    A  151315\n",
       "1      2    A  202307\n",
       "2      3    B   37392\n",
       "3      4    A  205863\n",
       "4      5    B   34875"
      ]
     },
     "execution_count": 13,
     "metadata": {},
     "output_type": "execute_result"
    }
   ],
   "source": [
    "stores_df.head()"
   ]
  },
  {
   "cell_type": "code",
   "execution_count": 14,
   "metadata": {},
   "outputs": [
    {
     "name": "stdout",
     "output_type": "stream",
     "text": [
      "<class 'pandas.core.frame.DataFrame'>\n",
      "RangeIndex: 45 entries, 0 to 44\n",
      "Data columns (total 3 columns):\n",
      "Store    45 non-null int64\n",
      "Type     45 non-null object\n",
      "Size     45 non-null int64\n",
      "dtypes: int64(2), object(1)\n",
      "memory usage: 1.1+ KB\n"
     ]
    }
   ],
   "source": [
    "stores_df.info()"
   ]
  },
  {
   "cell_type": "markdown",
   "metadata": {},
   "source": [
    "### Explore the train_df dataframe"
   ]
  },
  {
   "cell_type": "code",
   "execution_count": 15,
   "metadata": {},
   "outputs": [
    {
     "data": {
      "text/plain": [
       "45"
      ]
     },
     "execution_count": 15,
     "metadata": {},
     "output_type": "execute_result"
    }
   ],
   "source": [
    "train_df['Store'].nunique() ## Number of unique stores"
   ]
  },
  {
   "cell_type": "code",
   "execution_count": 16,
   "metadata": {},
   "outputs": [
    {
     "data": {
      "text/plain": [
       "81"
      ]
     },
     "execution_count": 16,
     "metadata": {},
     "output_type": "execute_result"
    }
   ],
   "source": [
    "train_df['Dept'].nunique() ## Count of Depts"
   ]
  },
  {
   "cell_type": "code",
   "execution_count": 17,
   "metadata": {},
   "outputs": [
    {
     "data": {
      "text/plain": [
       "13    10474\n",
       "10    10315\n",
       "4     10272\n",
       "1     10244\n",
       "2     10238\n",
       "Name: Store, dtype: int64"
      ]
     },
     "execution_count": 17,
     "metadata": {},
     "output_type": "execute_result"
    }
   ],
   "source": [
    "train_df['Store'].value_counts().head() #record count by stores"
   ]
  },
  {
   "cell_type": "code",
   "execution_count": 18,
   "metadata": {},
   "outputs": [
    {
     "data": {
      "text/plain": [
       "1     6435\n",
       "10    6435\n",
       "38    6435\n",
       "21    6435\n",
       "67    6435\n",
       "Name: Dept, dtype: int64"
      ]
     },
     "execution_count": 18,
     "metadata": {},
     "output_type": "execute_result"
    }
   ],
   "source": [
    "train_df['Dept'].value_counts().head()"
   ]
  },
  {
   "cell_type": "markdown",
   "metadata": {},
   "source": [
    "### EDA"
   ]
  },
  {
   "cell_type": "code",
   "execution_count": 19,
   "metadata": {},
   "outputs": [
    {
     "data": {
      "text/plain": [
       "<matplotlib.axes._subplots.AxesSubplot at 0x15ea12b1cc0>"
      ]
     },
     "execution_count": 19,
     "metadata": {},
     "output_type": "execute_result"
    },
    {
     "data": {
      "image/png": "[encoded data removed]",
      "text/plain": [
       "<matplotlib.figure.Figure at 0x15ea16cff98>"
      ]
     },
     "metadata": {},
     "output_type": "display_data"
    }
   ],
   "source": [
    "sns.kdeplot(train_df['Weekly_Sales'])"
   ]
  },
  {
   "cell_type": "code",
   "execution_count": 20,
   "metadata": {
    "collapsed": true
   },
   "outputs": [],
   "source": [
    "def log_transform_WeeklySales(col):\n",
    "    Weekly_Sales = col[0]\n",
    "    \n",
    "    if Weekly_Sales <= 0:\n",
    "        return 0\n",
    "    else:\n",
    "        return np.log(Weekly_Sales)"
   ]
  },
  {
   "cell_type": "code",
   "execution_count": 21,
   "metadata": {
    "collapsed": true
   },
   "outputs": [],
   "source": [
    "#Log transform Weekly sales\n",
    "train_df['Log_WeeklySales'] = train_df[['Weekly_Sales']].apply(log_transform_WeeklySales,axis=1)"
   ]
  },
  {
   "cell_type": "code",
   "execution_count": 22,
   "metadata": {},
   "outputs": [
    {
     "data": {
      "text/plain": [
       "<matplotlib.axes._subplots.AxesSubplot at 0x15ea19d5978>"
      ]
     },
     "execution_count": 22,
     "metadata": {},
     "output_type": "execute_result"
    },
    {
     "data": {
      "image/png": "[encoded data removed]",
      "text/plain": [
       "<matplotlib.figure.Figure at 0x15ea16cfe10>"
      ]
     },
     "metadata": {},
     "output_type": "display_data"
    }
   ],
   "source": [
    "sns.kdeplot(train_df['Log_WeeklySales'])"
   ]
  },
  {
   "cell_type": "code",
   "execution_count": 23,
   "metadata": {
    "collapsed": true
   },
   "outputs": [],
   "source": [
    "## Plot the Weekly_Sales of the training set grouped by Store"
   ]
  },
  {
   "cell_type": "code",
   "execution_count": 24,
   "metadata": {},
   "outputs": [
    {
     "data": {
      "image/png": "[encoded data removed]",
      "text/plain": [
       "<matplotlib.figure.Figure at 0x15ea1b99550>"
      ]
     },
     "metadata": {},
     "output_type": "display_data"
    }
   ],
   "source": [
    "train_df.groupby(['Store'])['Weekly_Sales'].plot(figsize=(16,8));"
   ]
  },
  {
   "cell_type": "code",
   "execution_count": 25,
   "metadata": {
    "collapsed": true
   },
   "outputs": [],
   "source": [
    "## Plot the Weekly_Sales, without considering the store location"
   ]
  },
  {
   "cell_type": "code",
   "execution_count": 26,
   "metadata": {},
   "outputs": [
    {
     "data": {
      "text/plain": [
       "<matplotlib.axes._subplots.AxesSubplot at 0x15ea2065c18>"
      ]
     },
     "execution_count": 26,
     "metadata": {},
     "output_type": "execute_result"
    },
    {
     "data": {
      "image/png": "[encoded data removed]",
      "text/plain": [
       "<matplotlib.figure.Figure at 0x15ea49be630>"
      ]
     },
     "metadata": {},
     "output_type": "display_data"
    }
   ],
   "source": [
    "train_df['Weekly_Sales'].plot(figsize=(16,8))"
   ]
  },
  {
   "cell_type": "code",
   "execution_count": 27,
   "metadata": {
    "collapsed": true
   },
   "outputs": [],
   "source": [
    "## Looking at the plot above, there is clear indication of seasonality. \n",
    "## Sales in Nov, Dec seems to be high for both years plotted."
   ]
  },
  {
   "cell_type": "code",
   "execution_count": 28,
   "metadata": {
    "collapsed": true
   },
   "outputs": [],
   "source": [
    "## This suggests that the time series is not stationary and will require differencing to make it stationary"
   ]
  },
  {
   "cell_type": "markdown",
   "metadata": {
    "collapsed": true
   },
   "source": [
    "### Create lag features"
   ]
  },
  {
   "cell_type": "code",
   "execution_count": 29,
   "metadata": {
    "collapsed": true
   },
   "outputs": [],
   "source": [
    "def create_features(df):\n",
    "    df1 = pd.concat((df.shift(1), df.shift(2)\n",
    "                     , df.shift(3), df.shift(1).rolling(window=3).min()\n",
    "                     , df.shift(1).rolling(window=3).max(), df.shift(1).rolling(window=3).mean()\n",
    "                     , df.shift(1).rolling(window=3).median(), df.shift(1).rolling(window=3).std()\n",
    "                     , df.shift(6), df.shift(1).rolling(window=6).min()\n",
    "                     , df.shift(1).rolling(window=6).max(), df.shift(1).rolling(window=6).mean()\n",
    "                     , df.shift(1).rolling(window=6).median(), df.shift(1).rolling(window=6).std()\n",
    "                     , df.shift(9), df.shift(1).rolling(window=9).min()\n",
    "                     , df.shift(1).rolling(window=9).max(), df.shift(1).rolling(window=9).mean()\n",
    "                     , df.shift(1).rolling(window=9).median(), df.shift(1).rolling(window=9).std())\n",
    "                    ,axis=1) \n",
    "    df1.columns = ['Lag_1', 'Lag_2'\n",
    "                   ,'Lag_3', 'Min_Lag_1-3', 'Max_Lag_1-3', 'Mean_Lag_1-3', 'Median_Lag_1-3', 'Std_Lag_1-3'\n",
    "                   ,'Lag_6', 'Min_Lag_1-6', 'Max_Lag_1-6', 'Mean_Lag_1-6', 'Median_Lag_1-6', 'Std_Lag_1-6'\n",
    "                   ,'Lag_9', 'Min_Lag_1-9', 'Max_Lag_1-9', 'Mean_Lag_1-9', 'Median_Lag_1-9', 'Std_Lag_1-9']\n",
    "    return df1"
   ]
  },
  {
   "cell_type": "code",
   "execution_count": 30,
   "metadata": {
    "collapsed": true
   },
   "outputs": [],
   "source": [
    "train_new = pd.concat((train_df, train_df.groupby(['Store'])[['Weekly_Sales']].apply(create_features)),axis=1)"
   ]
  },
  {
   "cell_type": "code",
   "execution_count": 31,
   "metadata": {},
   "outputs": [
    {
     "data": {
      "text/html": [
       "<div>\n",
       "<style>\n",
       "    .dataframe thead tr:only-child th {\n",
       "        text-align: right;\n",
       "    }\n",
       "\n",
       "    .dataframe thead th {\n",
       "        text-align: left;\n",
       "    }\n",
       "\n",
       "    .dataframe tbody tr th {\n",
       "        vertical-align: top;\n",
       "    }\n",
       "</style>\n",
       "<table border=\"1\" class=\"dataframe\">\n",
       "  <thead>\n",
       "    <tr style=\"text-align: right;\">\n",
       "      <th></th>\n",
       "      <th>Store</th>\n",
       "      <th>Dept</th>\n",
       "      <th>Weekly_Sales</th>\n",
       "      <th>IsHoliday</th>\n",
       "      <th>Log_WeeklySales</th>\n",
       "      <th>Lag_1</th>\n",
       "      <th>Lag_2</th>\n",
       "      <th>Lag_3</th>\n",
       "      <th>Min_Lag_1-3</th>\n",
       "      <th>Max_Lag_1-3</th>\n",
       "      <th>...</th>\n",
       "      <th>Max_Lag_1-6</th>\n",
       "      <th>Mean_Lag_1-6</th>\n",
       "      <th>Median_Lag_1-6</th>\n",
       "      <th>Std_Lag_1-6</th>\n",
       "      <th>Lag_9</th>\n",
       "      <th>Min_Lag_1-9</th>\n",
       "      <th>Max_Lag_1-9</th>\n",
       "      <th>Mean_Lag_1-9</th>\n",
       "      <th>Median_Lag_1-9</th>\n",
       "      <th>Std_Lag_1-9</th>\n",
       "    </tr>\n",
       "    <tr>\n",
       "      <th>Date</th>\n",
       "      <th></th>\n",
       "      <th></th>\n",
       "      <th></th>\n",
       "      <th></th>\n",
       "      <th></th>\n",
       "      <th></th>\n",
       "      <th></th>\n",
       "      <th></th>\n",
       "      <th></th>\n",
       "      <th></th>\n",
       "      <th></th>\n",
       "      <th></th>\n",
       "      <th></th>\n",
       "      <th></th>\n",
       "      <th></th>\n",
       "      <th></th>\n",
       "      <th></th>\n",
       "      <th></th>\n",
       "      <th></th>\n",
       "      <th></th>\n",
       "      <th></th>\n",
       "    </tr>\n",
       "  </thead>\n",
       "  <tbody>\n",
       "    <tr>\n",
       "      <th>2010-02-05</th>\n",
       "      <td>1</td>\n",
       "      <td>1</td>\n",
       "      <td>24924.50</td>\n",
       "      <td>False</td>\n",
       "      <td>10.123607</td>\n",
       "      <td>NaN</td>\n",
       "      <td>NaN</td>\n",
       "      <td>NaN</td>\n",
       "      <td>NaN</td>\n",
       "      <td>NaN</td>\n",
       "      <td>...</td>\n",
       "      <td>NaN</td>\n",
       "      <td>NaN</td>\n",
       "      <td>NaN</td>\n",
       "      <td>NaN</td>\n",
       "      <td>NaN</td>\n",
       "      <td>NaN</td>\n",
       "      <td>NaN</td>\n",
       "      <td>NaN</td>\n",
       "      <td>NaN</td>\n",
       "      <td>NaN</td>\n",
       "    </tr>\n",
       "    <tr>\n",
       "      <th>2010-02-12</th>\n",
       "      <td>1</td>\n",
       "      <td>1</td>\n",
       "      <td>46039.49</td>\n",
       "      <td>True</td>\n",
       "      <td>10.737255</td>\n",
       "      <td>24924.50</td>\n",
       "      <td>NaN</td>\n",
       "      <td>NaN</td>\n",
       "      <td>NaN</td>\n",
       "      <td>NaN</td>\n",
       "      <td>...</td>\n",
       "      <td>NaN</td>\n",
       "      <td>NaN</td>\n",
       "      <td>NaN</td>\n",
       "      <td>NaN</td>\n",
       "      <td>NaN</td>\n",
       "      <td>NaN</td>\n",
       "      <td>NaN</td>\n",
       "      <td>NaN</td>\n",
       "      <td>NaN</td>\n",
       "      <td>NaN</td>\n",
       "    </tr>\n",
       "    <tr>\n",
       "      <th>2010-02-19</th>\n",
       "      <td>1</td>\n",
       "      <td>1</td>\n",
       "      <td>41595.55</td>\n",
       "      <td>False</td>\n",
       "      <td>10.635748</td>\n",
       "      <td>46039.49</td>\n",
       "      <td>24924.50</td>\n",
       "      <td>NaN</td>\n",
       "      <td>NaN</td>\n",
       "      <td>NaN</td>\n",
       "      <td>...</td>\n",
       "      <td>NaN</td>\n",
       "      <td>NaN</td>\n",
       "      <td>NaN</td>\n",
       "      <td>NaN</td>\n",
       "      <td>NaN</td>\n",
       "      <td>NaN</td>\n",
       "      <td>NaN</td>\n",
       "      <td>NaN</td>\n",
       "      <td>NaN</td>\n",
       "      <td>NaN</td>\n",
       "    </tr>\n",
       "    <tr>\n",
       "      <th>2010-02-26</th>\n",
       "      <td>1</td>\n",
       "      <td>1</td>\n",
       "      <td>19403.54</td>\n",
       "      <td>False</td>\n",
       "      <td>9.873211</td>\n",
       "      <td>41595.55</td>\n",
       "      <td>46039.49</td>\n",
       "      <td>24924.50</td>\n",
       "      <td>24924.50</td>\n",
       "      <td>46039.49</td>\n",
       "      <td>...</td>\n",
       "      <td>NaN</td>\n",
       "      <td>NaN</td>\n",
       "      <td>NaN</td>\n",
       "      <td>NaN</td>\n",
       "      <td>NaN</td>\n",
       "      <td>NaN</td>\n",
       "      <td>NaN</td>\n",
       "      <td>NaN</td>\n",
       "      <td>NaN</td>\n",
       "      <td>NaN</td>\n",
       "    </tr>\n",
       "    <tr>\n",
       "      <th>2010-03-05</th>\n",
       "      <td>1</td>\n",
       "      <td>1</td>\n",
       "      <td>21827.90</td>\n",
       "      <td>False</td>\n",
       "      <td>9.990944</td>\n",
       "      <td>19403.54</td>\n",
       "      <td>41595.55</td>\n",
       "      <td>46039.49</td>\n",
       "      <td>19403.54</td>\n",
       "      <td>46039.49</td>\n",
       "      <td>...</td>\n",
       "      <td>NaN</td>\n",
       "      <td>NaN</td>\n",
       "      <td>NaN</td>\n",
       "      <td>NaN</td>\n",
       "      <td>NaN</td>\n",
       "      <td>NaN</td>\n",
       "      <td>NaN</td>\n",
       "      <td>NaN</td>\n",
       "      <td>NaN</td>\n",
       "      <td>NaN</td>\n",
       "    </tr>\n",
       "    <tr>\n",
       "      <th>2010-03-12</th>\n",
       "      <td>1</td>\n",
       "      <td>1</td>\n",
       "      <td>21043.39</td>\n",
       "      <td>False</td>\n",
       "      <td>9.954342</td>\n",
       "      <td>21827.90</td>\n",
       "      <td>19403.54</td>\n",
       "      <td>41595.55</td>\n",
       "      <td>19403.54</td>\n",
       "      <td>41595.55</td>\n",
       "      <td>...</td>\n",
       "      <td>NaN</td>\n",
       "      <td>NaN</td>\n",
       "      <td>NaN</td>\n",
       "      <td>NaN</td>\n",
       "      <td>NaN</td>\n",
       "      <td>NaN</td>\n",
       "      <td>NaN</td>\n",
       "      <td>NaN</td>\n",
       "      <td>NaN</td>\n",
       "      <td>NaN</td>\n",
       "    </tr>\n",
       "    <tr>\n",
       "      <th>2010-03-19</th>\n",
       "      <td>1</td>\n",
       "      <td>1</td>\n",
       "      <td>22136.64</td>\n",
       "      <td>False</td>\n",
       "      <td>10.004989</td>\n",
       "      <td>21043.39</td>\n",
       "      <td>21827.90</td>\n",
       "      <td>19403.54</td>\n",
       "      <td>19403.54</td>\n",
       "      <td>21827.90</td>\n",
       "      <td>...</td>\n",
       "      <td>46039.49</td>\n",
       "      <td>29139.061667</td>\n",
       "      <td>23376.200</td>\n",
       "      <td>11595.899933</td>\n",
       "      <td>NaN</td>\n",
       "      <td>NaN</td>\n",
       "      <td>NaN</td>\n",
       "      <td>NaN</td>\n",
       "      <td>NaN</td>\n",
       "      <td>NaN</td>\n",
       "    </tr>\n",
       "    <tr>\n",
       "      <th>2010-03-26</th>\n",
       "      <td>1</td>\n",
       "      <td>1</td>\n",
       "      <td>26229.21</td>\n",
       "      <td>False</td>\n",
       "      <td>10.174629</td>\n",
       "      <td>22136.64</td>\n",
       "      <td>21043.39</td>\n",
       "      <td>21827.90</td>\n",
       "      <td>21043.39</td>\n",
       "      <td>22136.64</td>\n",
       "      <td>...</td>\n",
       "      <td>46039.49</td>\n",
       "      <td>28674.418333</td>\n",
       "      <td>21982.270</td>\n",
       "      <td>11851.586348</td>\n",
       "      <td>NaN</td>\n",
       "      <td>NaN</td>\n",
       "      <td>NaN</td>\n",
       "      <td>NaN</td>\n",
       "      <td>NaN</td>\n",
       "      <td>NaN</td>\n",
       "    </tr>\n",
       "    <tr>\n",
       "      <th>2010-04-02</th>\n",
       "      <td>1</td>\n",
       "      <td>1</td>\n",
       "      <td>57258.43</td>\n",
       "      <td>False</td>\n",
       "      <td>10.955330</td>\n",
       "      <td>26229.21</td>\n",
       "      <td>22136.64</td>\n",
       "      <td>21043.39</td>\n",
       "      <td>21043.39</td>\n",
       "      <td>26229.21</td>\n",
       "      <td>...</td>\n",
       "      <td>41595.55</td>\n",
       "      <td>25372.705000</td>\n",
       "      <td>21982.270</td>\n",
       "      <td>8262.275220</td>\n",
       "      <td>NaN</td>\n",
       "      <td>NaN</td>\n",
       "      <td>NaN</td>\n",
       "      <td>NaN</td>\n",
       "      <td>NaN</td>\n",
       "      <td>NaN</td>\n",
       "    </tr>\n",
       "    <tr>\n",
       "      <th>2010-04-09</th>\n",
       "      <td>1</td>\n",
       "      <td>1</td>\n",
       "      <td>42960.91</td>\n",
       "      <td>False</td>\n",
       "      <td>10.668046</td>\n",
       "      <td>57258.43</td>\n",
       "      <td>26229.21</td>\n",
       "      <td>22136.64</td>\n",
       "      <td>22136.64</td>\n",
       "      <td>57258.43</td>\n",
       "      <td>...</td>\n",
       "      <td>57258.43</td>\n",
       "      <td>27983.185000</td>\n",
       "      <td>21982.270</td>\n",
       "      <td>14518.657534</td>\n",
       "      <td>24924.50</td>\n",
       "      <td>19403.54</td>\n",
       "      <td>57258.43</td>\n",
       "      <td>31162.072222</td>\n",
       "      <td>24924.50</td>\n",
       "      <td>13618.422046</td>\n",
       "    </tr>\n",
       "    <tr>\n",
       "      <th>2010-04-16</th>\n",
       "      <td>1</td>\n",
       "      <td>1</td>\n",
       "      <td>17596.96</td>\n",
       "      <td>False</td>\n",
       "      <td>9.775481</td>\n",
       "      <td>42960.91</td>\n",
       "      <td>57258.43</td>\n",
       "      <td>26229.21</td>\n",
       "      <td>26229.21</td>\n",
       "      <td>57258.43</td>\n",
       "      <td>...</td>\n",
       "      <td>57258.43</td>\n",
       "      <td>31909.413333</td>\n",
       "      <td>24182.925</td>\n",
       "      <td>14914.338116</td>\n",
       "      <td>46039.49</td>\n",
       "      <td>19403.54</td>\n",
       "      <td>57258.43</td>\n",
       "      <td>33166.117778</td>\n",
       "      <td>26229.21</td>\n",
       "      <td>13909.757504</td>\n",
       "    </tr>\n",
       "    <tr>\n",
       "      <th>2010-04-23</th>\n",
       "      <td>1</td>\n",
       "      <td>1</td>\n",
       "      <td>16145.35</td>\n",
       "      <td>False</td>\n",
       "      <td>9.689387</td>\n",
       "      <td>17596.96</td>\n",
       "      <td>42960.91</td>\n",
       "      <td>57258.43</td>\n",
       "      <td>17596.96</td>\n",
       "      <td>57258.43</td>\n",
       "      <td>...</td>\n",
       "      <td>57258.43</td>\n",
       "      <td>31204.256667</td>\n",
       "      <td>24182.925</td>\n",
       "      <td>15571.855002</td>\n",
       "      <td>41595.55</td>\n",
       "      <td>17596.96</td>\n",
       "      <td>57258.43</td>\n",
       "      <td>30005.836667</td>\n",
       "      <td>22136.64</td>\n",
       "      <td>13850.268056</td>\n",
       "    </tr>\n",
       "    <tr>\n",
       "      <th>2010-04-30</th>\n",
       "      <td>1</td>\n",
       "      <td>1</td>\n",
       "      <td>16555.11</td>\n",
       "      <td>False</td>\n",
       "      <td>9.714450</td>\n",
       "      <td>16145.35</td>\n",
       "      <td>17596.96</td>\n",
       "      <td>42960.91</td>\n",
       "      <td>16145.35</td>\n",
       "      <td>42960.91</td>\n",
       "      <td>...</td>\n",
       "      <td>57258.43</td>\n",
       "      <td>30387.916667</td>\n",
       "      <td>24182.925</td>\n",
       "      <td>16321.411297</td>\n",
       "      <td>19403.54</td>\n",
       "      <td>16145.35</td>\n",
       "      <td>57258.43</td>\n",
       "      <td>27178.036667</td>\n",
       "      <td>21827.90</td>\n",
       "      <td>13786.147766</td>\n",
       "    </tr>\n",
       "    <tr>\n",
       "      <th>2010-05-07</th>\n",
       "      <td>1</td>\n",
       "      <td>1</td>\n",
       "      <td>17413.94</td>\n",
       "      <td>False</td>\n",
       "      <td>9.765026</td>\n",
       "      <td>16555.11</td>\n",
       "      <td>16145.35</td>\n",
       "      <td>17596.96</td>\n",
       "      <td>16145.35</td>\n",
       "      <td>17596.96</td>\n",
       "      <td>...</td>\n",
       "      <td>57258.43</td>\n",
       "      <td>29457.661667</td>\n",
       "      <td>21913.085</td>\n",
       "      <td>17029.463063</td>\n",
       "      <td>21827.90</td>\n",
       "      <td>16145.35</td>\n",
       "      <td>57258.43</td>\n",
       "      <td>26861.544444</td>\n",
       "      <td>21827.90</td>\n",
       "      <td>14017.690735</td>\n",
       "    </tr>\n",
       "    <tr>\n",
       "      <th>2010-05-14</th>\n",
       "      <td>1</td>\n",
       "      <td>1</td>\n",
       "      <td>18926.74</td>\n",
       "      <td>False</td>\n",
       "      <td>9.848331</td>\n",
       "      <td>17413.94</td>\n",
       "      <td>16555.11</td>\n",
       "      <td>16145.35</td>\n",
       "      <td>16145.35</td>\n",
       "      <td>17413.94</td>\n",
       "      <td>...</td>\n",
       "      <td>57258.43</td>\n",
       "      <td>27988.450000</td>\n",
       "      <td>17505.450</td>\n",
       "      <td>17729.579211</td>\n",
       "      <td>21043.39</td>\n",
       "      <td>16145.35</td>\n",
       "      <td>57258.43</td>\n",
       "      <td>26371.104444</td>\n",
       "      <td>21043.39</td>\n",
       "      <td>14290.381814</td>\n",
       "    </tr>\n",
       "    <tr>\n",
       "      <th>2010-05-21</th>\n",
       "      <td>1</td>\n",
       "      <td>1</td>\n",
       "      <td>14773.04</td>\n",
       "      <td>False</td>\n",
       "      <td>9.600559</td>\n",
       "      <td>18926.74</td>\n",
       "      <td>17413.94</td>\n",
       "      <td>16555.11</td>\n",
       "      <td>16555.11</td>\n",
       "      <td>18926.74</td>\n",
       "      <td>...</td>\n",
       "      <td>42960.91</td>\n",
       "      <td>21599.835000</td>\n",
       "      <td>17505.450</td>\n",
       "      <td>10508.913780</td>\n",
       "      <td>22136.64</td>\n",
       "      <td>16145.35</td>\n",
       "      <td>57258.43</td>\n",
       "      <td>26135.921111</td>\n",
       "      <td>18926.74</td>\n",
       "      <td>14405.972369</td>\n",
       "    </tr>\n",
       "    <tr>\n",
       "      <th>2010-05-28</th>\n",
       "      <td>1</td>\n",
       "      <td>1</td>\n",
       "      <td>15580.43</td>\n",
       "      <td>False</td>\n",
       "      <td>9.653771</td>\n",
       "      <td>14773.04</td>\n",
       "      <td>18926.74</td>\n",
       "      <td>17413.94</td>\n",
       "      <td>14773.04</td>\n",
       "      <td>18926.74</td>\n",
       "      <td>...</td>\n",
       "      <td>18926.74</td>\n",
       "      <td>16901.856667</td>\n",
       "      <td>16984.525</td>\n",
       "      <td>1419.150907</td>\n",
       "      <td>26229.21</td>\n",
       "      <td>14773.04</td>\n",
       "      <td>57258.43</td>\n",
       "      <td>25317.743333</td>\n",
       "      <td>17596.96</td>\n",
       "      <td>14863.345868</td>\n",
       "    </tr>\n",
       "    <tr>\n",
       "      <th>2010-06-04</th>\n",
       "      <td>1</td>\n",
       "      <td>1</td>\n",
       "      <td>17558.09</td>\n",
       "      <td>False</td>\n",
       "      <td>9.773270</td>\n",
       "      <td>15580.43</td>\n",
       "      <td>14773.04</td>\n",
       "      <td>18926.74</td>\n",
       "      <td>14773.04</td>\n",
       "      <td>18926.74</td>\n",
       "      <td>...</td>\n",
       "      <td>18926.74</td>\n",
       "      <td>16565.768333</td>\n",
       "      <td>16350.230</td>\n",
       "      <td>1459.809170</td>\n",
       "      <td>57258.43</td>\n",
       "      <td>14773.04</td>\n",
       "      <td>57258.43</td>\n",
       "      <td>24134.545556</td>\n",
       "      <td>17413.94</td>\n",
       "      <td>15201.715732</td>\n",
       "    </tr>\n",
       "    <tr>\n",
       "      <th>2010-06-11</th>\n",
       "      <td>1</td>\n",
       "      <td>1</td>\n",
       "      <td>16637.62</td>\n",
       "      <td>False</td>\n",
       "      <td>9.719422</td>\n",
       "      <td>17558.09</td>\n",
       "      <td>15580.43</td>\n",
       "      <td>14773.04</td>\n",
       "      <td>14773.04</td>\n",
       "      <td>17558.09</td>\n",
       "      <td>...</td>\n",
       "      <td>18926.74</td>\n",
       "      <td>16801.225000</td>\n",
       "      <td>16984.525</td>\n",
       "      <td>1492.013789</td>\n",
       "      <td>42960.91</td>\n",
       "      <td>14773.04</td>\n",
       "      <td>42960.91</td>\n",
       "      <td>19723.396667</td>\n",
       "      <td>17413.94</td>\n",
       "      <td>8801.073983</td>\n",
       "    </tr>\n",
       "    <tr>\n",
       "      <th>2010-06-18</th>\n",
       "      <td>1</td>\n",
       "      <td>1</td>\n",
       "      <td>16216.27</td>\n",
       "      <td>False</td>\n",
       "      <td>9.693770</td>\n",
       "      <td>16637.62</td>\n",
       "      <td>17558.09</td>\n",
       "      <td>15580.43</td>\n",
       "      <td>15580.43</td>\n",
       "      <td>17558.09</td>\n",
       "      <td>...</td>\n",
       "      <td>18926.74</td>\n",
       "      <td>16814.976667</td>\n",
       "      <td>17025.780</td>\n",
       "      <td>1489.670104</td>\n",
       "      <td>17596.96</td>\n",
       "      <td>14773.04</td>\n",
       "      <td>18926.74</td>\n",
       "      <td>16798.586667</td>\n",
       "      <td>16637.62</td>\n",
       "      <td>1235.950843</td>\n",
       "    </tr>\n",
       "  </tbody>\n",
       "</table>\n",
       "<p>20 rows × 25 columns</p>\n",
       "</div>"
      ],
      "text/plain": [
       "            Store  Dept  Weekly_Sales  IsHoliday  Log_WeeklySales     Lag_1  \\\n",
       "Date                                                                          \n",
       "2010-02-05      1     1      24924.50      False        10.123607       NaN   \n",
       "2010-02-12      1     1      46039.49       True        10.737255  24924.50   \n",
       "2010-02-19      1     1      41595.55      False        10.635748  46039.49   \n",
       "2010-02-26      1     1      19403.54      False         9.873211  41595.55   \n",
       "2010-03-05      1     1      21827.90      False         9.990944  19403.54   \n",
       "2010-03-12      1     1      21043.39      False         9.954342  21827.90   \n",
       "2010-03-19      1     1      22136.64      False        10.004989  21043.39   \n",
       "2010-03-26      1     1      26229.21      False        10.174629  22136.64   \n",
       "2010-04-02      1     1      57258.43      False        10.955330  26229.21   \n",
       "2010-04-09      1     1      42960.91      False        10.668046  57258.43   \n",
       "2010-04-16      1     1      17596.96      False         9.775481  42960.91   \n",
       "2010-04-23      1     1      16145.35      False         9.689387  17596.96   \n",
       "2010-04-30      1     1      16555.11      False         9.714450  16145.35   \n",
       "2010-05-07      1     1      17413.94      False         9.765026  16555.11   \n",
       "2010-05-14      1     1      18926.74      False         9.848331  17413.94   \n",
       "2010-05-21      1     1      14773.04      False         9.600559  18926.74   \n",
       "2010-05-28      1     1      15580.43      False         9.653771  14773.04   \n",
       "2010-06-04      1     1      17558.09      False         9.773270  15580.43   \n",
       "2010-06-11      1     1      16637.62      False         9.719422  17558.09   \n",
       "2010-06-18      1     1      16216.27      False         9.693770  16637.62   \n",
       "\n",
       "               Lag_2     Lag_3  Min_Lag_1-3  Max_Lag_1-3      ...       \\\n",
       "Date                                                          ...        \n",
       "2010-02-05       NaN       NaN          NaN          NaN      ...        \n",
       "2010-02-12       NaN       NaN          NaN          NaN      ...        \n",
       "2010-02-19  24924.50       NaN          NaN          NaN      ...        \n",
       "2010-02-26  46039.49  24924.50     24924.50     46039.49      ...        \n",
       "2010-03-05  41595.55  46039.49     19403.54     46039.49      ...        \n",
       "2010-03-12  19403.54  41595.55     19403.54     41595.55      ...        \n",
       "2010-03-19  21827.90  19403.54     19403.54     21827.90      ...        \n",
       "2010-03-26  21043.39  21827.90     21043.39     22136.64      ...        \n",
       "2010-04-02  22136.64  21043.39     21043.39     26229.21      ...        \n",
       "2010-04-09  26229.21  22136.64     22136.64     57258.43      ...        \n",
       "2010-04-16  57258.43  26229.21     26229.21     57258.43      ...        \n",
       "2010-04-23  42960.91  57258.43     17596.96     57258.43      ...        \n",
       "2010-04-30  17596.96  42960.91     16145.35     42960.91      ...        \n",
       "2010-05-07  16145.35  17596.96     16145.35     17596.96      ...        \n",
       "2010-05-14  16555.11  16145.35     16145.35     17413.94      ...        \n",
       "2010-05-21  17413.94  16555.11     16555.11     18926.74      ...        \n",
       "2010-05-28  18926.74  17413.94     14773.04     18926.74      ...        \n",
       "2010-06-04  14773.04  18926.74     14773.04     18926.74      ...        \n",
       "2010-06-11  15580.43  14773.04     14773.04     17558.09      ...        \n",
       "2010-06-18  17558.09  15580.43     15580.43     17558.09      ...        \n",
       "\n",
       "            Max_Lag_1-6  Mean_Lag_1-6  Median_Lag_1-6   Std_Lag_1-6     Lag_9  \\\n",
       "Date                                                                            \n",
       "2010-02-05          NaN           NaN             NaN           NaN       NaN   \n",
       "2010-02-12          NaN           NaN             NaN           NaN       NaN   \n",
       "2010-02-19          NaN           NaN             NaN           NaN       NaN   \n",
       "2010-02-26          NaN           NaN             NaN           NaN       NaN   \n",
       "2010-03-05          NaN           NaN             NaN           NaN       NaN   \n",
       "2010-03-12          NaN           NaN             NaN           NaN       NaN   \n",
       "2010-03-19     46039.49  29139.061667       23376.200  11595.899933       NaN   \n",
       "2010-03-26     46039.49  28674.418333       21982.270  11851.586348       NaN   \n",
       "2010-04-02     41595.55  25372.705000       21982.270   8262.275220       NaN   \n",
       "2010-04-09     57258.43  27983.185000       21982.270  14518.657534  24924.50   \n",
       "2010-04-16     57258.43  31909.413333       24182.925  14914.338116  46039.49   \n",
       "2010-04-23     57258.43  31204.256667       24182.925  15571.855002  41595.55   \n",
       "2010-04-30     57258.43  30387.916667       24182.925  16321.411297  19403.54   \n",
       "2010-05-07     57258.43  29457.661667       21913.085  17029.463063  21827.90   \n",
       "2010-05-14     57258.43  27988.450000       17505.450  17729.579211  21043.39   \n",
       "2010-05-21     42960.91  21599.835000       17505.450  10508.913780  22136.64   \n",
       "2010-05-28     18926.74  16901.856667       16984.525   1419.150907  26229.21   \n",
       "2010-06-04     18926.74  16565.768333       16350.230   1459.809170  57258.43   \n",
       "2010-06-11     18926.74  16801.225000       16984.525   1492.013789  42960.91   \n",
       "2010-06-18     18926.74  16814.976667       17025.780   1489.670104  17596.96   \n",
       "\n",
       "            Min_Lag_1-9  Max_Lag_1-9  Mean_Lag_1-9  Median_Lag_1-9  \\\n",
       "Date                                                                 \n",
       "2010-02-05          NaN          NaN           NaN             NaN   \n",
       "2010-02-12          NaN          NaN           NaN             NaN   \n",
       "2010-02-19          NaN          NaN           NaN             NaN   \n",
       "2010-02-26          NaN          NaN           NaN             NaN   \n",
       "2010-03-05          NaN          NaN           NaN             NaN   \n",
       "2010-03-12          NaN          NaN           NaN             NaN   \n",
       "2010-03-19          NaN          NaN           NaN             NaN   \n",
       "2010-03-26          NaN          NaN           NaN             NaN   \n",
       "2010-04-02          NaN          NaN           NaN             NaN   \n",
       "2010-04-09     19403.54     57258.43  31162.072222        24924.50   \n",
       "2010-04-16     19403.54     57258.43  33166.117778        26229.21   \n",
       "2010-04-23     17596.96     57258.43  30005.836667        22136.64   \n",
       "2010-04-30     16145.35     57258.43  27178.036667        21827.90   \n",
       "2010-05-07     16145.35     57258.43  26861.544444        21827.90   \n",
       "2010-05-14     16145.35     57258.43  26371.104444        21043.39   \n",
       "2010-05-21     16145.35     57258.43  26135.921111        18926.74   \n",
       "2010-05-28     14773.04     57258.43  25317.743333        17596.96   \n",
       "2010-06-04     14773.04     57258.43  24134.545556        17413.94   \n",
       "2010-06-11     14773.04     42960.91  19723.396667        17413.94   \n",
       "2010-06-18     14773.04     18926.74  16798.586667        16637.62   \n",
       "\n",
       "             Std_Lag_1-9  \n",
       "Date                      \n",
       "2010-02-05           NaN  \n",
       "2010-02-12           NaN  \n",
       "2010-02-19           NaN  \n",
       "2010-02-26           NaN  \n",
       "2010-03-05           NaN  \n",
       "2010-03-12           NaN  \n",
       "2010-03-19           NaN  \n",
       "2010-03-26           NaN  \n",
       "2010-04-02           NaN  \n",
       "2010-04-09  13618.422046  \n",
       "2010-04-16  13909.757504  \n",
       "2010-04-23  13850.268056  \n",
       "2010-04-30  13786.147766  \n",
       "2010-05-07  14017.690735  \n",
       "2010-05-14  14290.381814  \n",
       "2010-05-21  14405.972369  \n",
       "2010-05-28  14863.345868  \n",
       "2010-06-04  15201.715732  \n",
       "2010-06-11   8801.073983  \n",
       "2010-06-18   1235.950843  \n",
       "\n",
       "[20 rows x 25 columns]"
      ]
     },
     "execution_count": 31,
     "metadata": {},
     "output_type": "execute_result"
    }
   ],
   "source": [
    "train_new.head(20)"
   ]
  },
  {
   "cell_type": "code",
   "execution_count": null,
   "metadata": {
    "collapsed": true
   },
   "outputs": [],
   "source": []
  }
 ],
 "metadata": {
  "kernelspec": {
   "display_name": "Python 3",
   "language": "python",
   "name": "python3"
  },
  "language_info": {
   "codemirror_mode": {
    "name": "ipython",
    "version": 3
   },
   "file_extension": ".py",
   "mimetype": "text/x-python",
   "name": "python",
   "nbconvert_exporter": "python",
   "pygments_lexer": "ipython3",
   "version": "3.6.3"
  }
 },
 "nbformat": 4,
 "nbformat_minor": 2
}
